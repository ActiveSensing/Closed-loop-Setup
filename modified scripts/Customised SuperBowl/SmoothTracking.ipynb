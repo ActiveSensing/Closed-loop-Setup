{
 "cells": [
  {
   "cell_type": "code",
   "execution_count": null,
   "id": "c1843591-8ae5-4c6d-8c47-5e927342c7ef",
   "metadata": {},
   "outputs": [],
   "source": [
    "import pandas as pd\n",
    "import os\n",
    "from sys import path\n",
    "path.append(r'C:\\Users\\fenklab\\Desktop\\super_bowl_screen-main\\Software')\n",
    "from bowl_stimulate_class import *\n",
    "\n",
    "stim = Stimulation_Pipeline()\n",
    "log = stim.LoopScenes(arena = stim,\n",
    "                      bouncing_limits = 60, side_duration = 3.0, side_per_scene = 4, break_duration =1.0,\n",
    "                      framerate = 60, iteration = 20, inverted=True, rot_offset=(0,60,0), random_order = False,\n",
    "                      scenes = [\n",
    "                          [\n",
    "                              \"Black Bar on White\",\n",
    "                              stim.bar_vertical(width=30, color=0, color_b=125),\n",
    "                              None,\n",
    "                              lambda f, b, s : (stim.superpose(foreground = f, background = b, shift = s))\n",
    "                              ],\n",
    "                          [\n",
    "                              \"Checker Bar on Cheker\",\n",
    "                              stim.checker_bar_vertical(square_size=15, width_in_squares=2, color1=0, color2=80, color_b=-1),\n",
    "                              stim.checker_screen(pixel_size=15, color1=0, color2=80),\n",
    "                              lambda f, b, s : (stim.superpose(foreground = f, background = b, shift = s))\n",
    "                              ],\n",
    "                          [\n",
    "                              \"Black Bar on Checker\",\n",
    "                              stim.bar_vertical(width=30, color=0, color_b=-1),\n",
    "                              stim.checker_screen(pixel_size=15, color1=0, color2=80),\n",
    "                              lambda f, b, s : (stim.superpose(foreground = f, background = b, shift = s))\n",
    "                              ],\n",
    "                          [ # convergent and divergent scenes can be done by a background mirroring the foreground\n",
    "                              \"Checker Screen\", #name of the scene\n",
    "                              stim.checker_screen(pixel_size=15, color1=0, color2=80),\n",
    "                              None,\n",
    "                              lambda f, b, s : (stim.superpose(foreground = f, background = b, shift = s))\n",
    "                              ]\n",
    "                          ])\n",
    "\n",
    "\n",
    "if len(sys.argv) > 1:\n",
    "    output_directory_path = sys.argv[1]\n",
    "    flyID = sys.argv[2]\n",
    "    log.to_csv(os.path.join(output_directory_path, flyID + \"_\" + 'stimulus_log.csv'), index=False)\n",
    "\n",
    "cv2.destroyAllWindows()\n",
    "key = cv2.waitKey(1)"
   ]
  }
 ],
 "metadata": {
  "kernelspec": {
   "display_name": "Python 3 (ipykernel)",
   "language": "python",
   "name": "python3"
  },
  "language_info": {
   "codemirror_mode": {
    "name": "ipython",
    "version": 3
   },
   "file_extension": ".py",
   "mimetype": "text/x-python",
   "name": "python",
   "nbconvert_exporter": "python",
   "pygments_lexer": "ipython3",
   "version": "3.11.7"
  }
 },
 "nbformat": 4,
 "nbformat_minor": 5
}
