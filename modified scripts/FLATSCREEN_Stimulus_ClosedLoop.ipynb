{
 "cells": [
  {
   "cell_type": "code",
   "execution_count": 5,
   "id": "c1843591-8ae5-4c6d-8c47-5e927342c7ef",
   "metadata": {},
   "outputs": [
    {
     "name": "stdout",
     "output_type": "stream",
     "text": [
      "initialize Stimulation Pipeline <  Arena  >: xdim=, 180 ydim= 360 at position x= 7080 y= 2400\n",
      "starting time:- 2024-01-26 13:37:48.101877\n",
      "mean fps86.53565869001642\n"
     ]
    }
   ],
   "source": [
    "import pandas as pd\n",
    "import os\n",
    "from sys import path\n",
    "path.append(r'C:\\Users\\fenklab\\Desktop\\super_bowl_screen-main\\Software') #path to the superbowl scripts\n",
    "from bowl_stimulate_class import *\n",
    "\n",
    "stim = Stimulation_Pipeline(is_flat_screen = True, xfov = 90)\n",
    "log = stim.RotateWithFicTrac(stim.bar_vertical(width=30, color=0, color_b=125),\n",
    "                              inverted=False, MMapName=\"2305\",\n",
    "                              gain=1, duration=-1)\n",
    "\n",
    "output_directory_path = r\"C:\\Users\\fenklab\\Desktop\\New folder\"\n",
    "flyID = \"TEST\"\n",
    "\n",
    "# Extract flyUD and directroy path when script launched by EyeTracker\n",
    "#if len(sys.argv) > 1:\n",
    "#    output_directory_path = sys.argv[1]\n",
    "#    flyID = sys.argv[2]\n",
    "\n",
    "#log.to_csv(os.path.join(output_directory_path, flyID + \"_\" + 'stimulus_log.csv'), index=False)\n",
    "\n",
    "cv2.destroyAllWindows()\n",
    "key = cv2.waitKey(1)"
   ]
  }
 ],
 "metadata": {
  "kernelspec": {
   "display_name": "Python 3 (ipykernel)",
   "language": "python",
   "name": "python3"
  },
  "language_info": {
   "codemirror_mode": {
    "name": "ipython",
    "version": 3
   },
   "file_extension": ".py",
   "mimetype": "text/x-python",
   "name": "python",
   "nbconvert_exporter": "python",
   "pygments_lexer": "ipython3",
   "version": "3.11.7"
  }
 },
 "nbformat": 4,
 "nbformat_minor": 5
}
